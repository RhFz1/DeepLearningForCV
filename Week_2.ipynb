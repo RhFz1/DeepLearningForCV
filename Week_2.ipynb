{
  "nbformat": 4,
  "nbformat_minor": 0,
  "metadata": {
    "colab": {
      "provenance": []
    },
    "kernelspec": {
      "name": "python3",
      "display_name": "Python 3"
    },
    "language_info": {
      "name": "python"
    }
  },
  "cells": [
    {
      "cell_type": "markdown",
      "source": [
        "#`Lab-II`\n",
        "* Create a perception which learns the XOR gate.\n",
        "* Create a sigmoid method which applies the sigmoid activation.\n",
        "* Create a multilayer perceptron to perform mnist classification\n"
      ],
      "metadata": {
        "id": "zGwjZBwDIM6A"
      }
    },
    {
      "cell_type": "code",
      "execution_count": 1,
      "metadata": {
        "id": "IU_JE2PjIHso"
      },
      "outputs": [],
      "source": [
        "X_train = [[0 , 0 , 1],\n",
        "           [1 , 1 , 1],\n",
        "           [1 , 0 , 1],\n",
        "           [0 , 1 , 1]]\n",
        "y_train = [[0],\n",
        "           [1],\n",
        "           [1],\n",
        "           [0]]"
      ]
    },
    {
      "cell_type": "code",
      "source": [
        "import numpy as np"
      ],
      "metadata": {
        "id": "cNgQnydaLwci"
      },
      "execution_count": 2,
      "outputs": []
    },
    {
      "cell_type": "code",
      "source": [
        "def sigmoid(z):\n",
        "    z = np.array(z)\n",
        "    z = -z\n",
        "    return 1 / (1 + np.exp(z))"
      ],
      "metadata": {
        "id": "WisSxUnZME-h"
      },
      "execution_count": 7,
      "outputs": []
    },
    {
      "cell_type": "code",
      "source": [
        "sigmoid([0 , 2.4, 3.6])"
      ],
      "metadata": {
        "colab": {
          "base_uri": "https://localhost:8080/"
        },
        "id": "4NGeq7ipMpib",
        "outputId": "4dd74f4f-39f4-485d-ba14-fd05e1246355"
      },
      "execution_count": 9,
      "outputs": [
        {
          "output_type": "execute_result",
          "data": {
            "text/plain": [
              "array([0.5       , 0.9168273 , 0.97340301])"
            ]
          },
          "metadata": {},
          "execution_count": 9
        }
      ]
    },
    {
      "cell_type": "code",
      "source": [
        "def perceptron(weights , input_labels):\n",
        "    z = []\n",
        "    for i in range(4):\n",
        "        z.append(np.dot(weights , input_labels[i]))\n",
        "    act = sigmoid(z)\n",
        "    return act"
      ],
      "metadata": {
        "id": "E5em0U48Ly9e"
      },
      "execution_count": 24,
      "outputs": []
    },
    {
      "cell_type": "code",
      "source": [
        "perceptron([-1 , -1 , 1] , X_train)"
      ],
      "metadata": {
        "colab": {
          "base_uri": "https://localhost:8080/"
        },
        "id": "BKLM-fKgNVWC",
        "outputId": "5d12e33d-ca3e-4a40-f9df-5e7b3cf14df4"
      },
      "execution_count": 29,
      "outputs": [
        {
          "output_type": "execute_result",
          "data": {
            "text/plain": [
              "array([0.73105858, 0.26894142, 0.5       , 0.5       ])"
            ]
          },
          "metadata": {},
          "execution_count": 29
        }
      ]
    },
    {
      "cell_type": "code",
      "source": [
        "from sklearn.neural_network import MLPClassifier"
      ],
      "metadata": {
        "id": "RBYBQ8xONrCk"
      },
      "execution_count": 30,
      "outputs": []
    },
    {
      "cell_type": "code",
      "source": [
        "from sklearn.datasets import load_digits\n",
        "digits = load_digits()"
      ],
      "metadata": {
        "id": "Hb1-vtyqQMIE"
      },
      "execution_count": 31,
      "outputs": []
    },
    {
      "cell_type": "code",
      "source": [
        "X = digits['images']\n",
        "y = digits['target']"
      ],
      "metadata": {
        "id": "wdErfUF0QTtE"
      },
      "execution_count": 32,
      "outputs": []
    },
    {
      "cell_type": "code",
      "source": [
        "N = len(X)\n",
        "X = X.reshape((N , -1))"
      ],
      "metadata": {
        "id": "02RexXxNQ6ro"
      },
      "execution_count": 39,
      "outputs": []
    },
    {
      "cell_type": "code",
      "source": [
        "from sklearn.model_selection import train_test_split\n",
        "X_train , X_test, y_train , y_test = train_test_split(X , y, test_size = 0.2 , random_state = 1234)"
      ],
      "metadata": {
        "id": "hDIMX9caQYE1"
      },
      "execution_count": 40,
      "outputs": []
    },
    {
      "cell_type": "code",
      "source": [
        "nn = MLPClassifier()"
      ],
      "metadata": {
        "id": "3bMnz-5rQZOj"
      },
      "execution_count": 41,
      "outputs": []
    },
    {
      "cell_type": "code",
      "source": [
        "nn.fit(X_train , y_train)"
      ],
      "metadata": {
        "colab": {
          "base_uri": "https://localhost:8080/"
        },
        "id": "pOn2NwVmQqgZ",
        "outputId": "598487c8-bc26-4558-fd36-96e75172d8bd"
      },
      "execution_count": 42,
      "outputs": [
        {
          "output_type": "execute_result",
          "data": {
            "text/plain": [
              "MLPClassifier()"
            ]
          },
          "metadata": {},
          "execution_count": 42
        }
      ]
    },
    {
      "cell_type": "code",
      "source": [
        "y_pred = nn.predict(X_test)"
      ],
      "metadata": {
        "id": "mBUyIt8rQtB0"
      },
      "execution_count": 45,
      "outputs": []
    },
    {
      "cell_type": "code",
      "source": [
        "nn.score(X_test , y_test)"
      ],
      "metadata": {
        "colab": {
          "base_uri": "https://localhost:8080/"
        },
        "id": "gkadxmieRM__",
        "outputId": "bbfa20d2-6ac1-4725-cf1c-a7f1ad7f9245"
      },
      "execution_count": 46,
      "outputs": [
        {
          "output_type": "execute_result",
          "data": {
            "text/plain": [
              "0.975"
            ]
          },
          "metadata": {},
          "execution_count": 46
        }
      ]
    },
    {
      "cell_type": "code",
      "source": [],
      "metadata": {
        "id": "pLGIYwU7RbrO"
      },
      "execution_count": null,
      "outputs": []
    }
  ]
}