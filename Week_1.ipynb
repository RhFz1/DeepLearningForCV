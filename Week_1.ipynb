{
  "nbformat": 4,
  "nbformat_minor": 0,
  "metadata": {
    "colab": {
      "provenance": []
    },
    "kernelspec": {
      "name": "python3",
      "display_name": "Python 3"
    },
    "language_info": {
      "name": "python"
    }
  },
  "cells": [
    {
      "cell_type": "markdown",
      "source": [
        "# **`Week_1`**\n",
        "## **Tasks**\n",
        "\n",
        "\n",
        "*   Linear Regression Model\n",
        "*   Logistic Regression Model\n",
        "*   Activation Functions\n",
        "\n"
      ],
      "metadata": {
        "id": "RfinqwUHbCJg"
      }
    },
    {
      "cell_type": "markdown",
      "source": [
        "# **`Linear Regression`**"
      ],
      "metadata": {
        "id": "1FyeDclIlGCO"
      }
    },
    {
      "cell_type": "code",
      "execution_count": 148,
      "metadata": {
        "id": "2kG9-Fuha889"
      },
      "outputs": [],
      "source": [
        "import numpy as np\n",
        "import pandas as pd\n",
        "import matplotlib.pyplot as plt\n",
        "import tensorflow as tf\n",
        "import sklearn\n",
        "import seaborn as sns"
      ]
    },
    {
      "cell_type": "code",
      "source": [
        "df = pd.read_csv(\"insurance.csv\")"
      ],
      "metadata": {
        "id": "QjcutOfdbnjm"
      },
      "execution_count": 149,
      "outputs": []
    },
    {
      "cell_type": "code",
      "source": [
        "cats = [cols for cols in df.columns if df[cols].dtype == object]\n",
        "nums = [cols for cols in df.columns if df[cols].dtype != object]\n",
        "del nums[-1]"
      ],
      "metadata": {
        "id": "1eF1_8cle6iL"
      },
      "execution_count": 150,
      "outputs": []
    },
    {
      "cell_type": "code",
      "source": [
        "from sklearn.preprocessing import StandardScaler as SS\n",
        "Ss = SS()"
      ],
      "metadata": {
        "id": "WCCRPvaleEaC"
      },
      "execution_count": 151,
      "outputs": []
    },
    {
      "cell_type": "code",
      "source": [
        "df[nums] = Ss.fit_transform(df[nums])"
      ],
      "metadata": {
        "id": "zoQ0Vu-Hey1j"
      },
      "execution_count": 152,
      "outputs": []
    },
    {
      "cell_type": "code",
      "source": [
        "df"
      ],
      "metadata": {
        "colab": {
          "base_uri": "https://localhost:8080/",
          "height": 424
        },
        "id": "WXTwUtBEciHu",
        "outputId": "fa6d7851-7f45-4cc7-867f-3e0e1e15d540"
      },
      "execution_count": 153,
      "outputs": [
        {
          "output_type": "execute_result",
          "data": {
            "text/plain": [
              "           age     sex       bmi  children smoker     region      charges\n",
              "0    -1.438764  female -0.453320 -0.908614    yes  southwest  16884.92400\n",
              "1    -1.509965    male  0.509621 -0.078767     no  southeast   1725.55230\n",
              "2    -0.797954    male  0.383307  1.580926     no  southeast   4449.46200\n",
              "3    -0.441948    male -1.305531 -0.908614     no  northwest  21984.47061\n",
              "4    -0.513149    male -0.292556 -0.908614     no  northwest   3866.85520\n",
              "...        ...     ...       ...       ...    ...        ...          ...\n",
              "1333  0.768473    male  0.050297  1.580926     no  northwest  10600.54830\n",
              "1334 -1.509965  female  0.206139 -0.908614     no  northeast   2205.98080\n",
              "1335 -1.509965  female  1.014878 -0.908614     no  southeast   1629.83350\n",
              "1336 -1.296362  female -0.797813 -0.908614     no  southwest   2007.94500\n",
              "1337  1.551686  female -0.261388 -0.908614    yes  northwest  29141.36030\n",
              "\n",
              "[1338 rows x 7 columns]"
            ],
            "text/html": [
              "\n",
              "  <div id=\"df-cfa9e5d8-2e1a-4d18-b0f2-bed748595aef\">\n",
              "    <div class=\"colab-df-container\">\n",
              "      <div>\n",
              "<style scoped>\n",
              "    .dataframe tbody tr th:only-of-type {\n",
              "        vertical-align: middle;\n",
              "    }\n",
              "\n",
              "    .dataframe tbody tr th {\n",
              "        vertical-align: top;\n",
              "    }\n",
              "\n",
              "    .dataframe thead th {\n",
              "        text-align: right;\n",
              "    }\n",
              "</style>\n",
              "<table border=\"1\" class=\"dataframe\">\n",
              "  <thead>\n",
              "    <tr style=\"text-align: right;\">\n",
              "      <th></th>\n",
              "      <th>age</th>\n",
              "      <th>sex</th>\n",
              "      <th>bmi</th>\n",
              "      <th>children</th>\n",
              "      <th>smoker</th>\n",
              "      <th>region</th>\n",
              "      <th>charges</th>\n",
              "    </tr>\n",
              "  </thead>\n",
              "  <tbody>\n",
              "    <tr>\n",
              "      <th>0</th>\n",
              "      <td>-1.438764</td>\n",
              "      <td>female</td>\n",
              "      <td>-0.453320</td>\n",
              "      <td>-0.908614</td>\n",
              "      <td>yes</td>\n",
              "      <td>southwest</td>\n",
              "      <td>16884.92400</td>\n",
              "    </tr>\n",
              "    <tr>\n",
              "      <th>1</th>\n",
              "      <td>-1.509965</td>\n",
              "      <td>male</td>\n",
              "      <td>0.509621</td>\n",
              "      <td>-0.078767</td>\n",
              "      <td>no</td>\n",
              "      <td>southeast</td>\n",
              "      <td>1725.55230</td>\n",
              "    </tr>\n",
              "    <tr>\n",
              "      <th>2</th>\n",
              "      <td>-0.797954</td>\n",
              "      <td>male</td>\n",
              "      <td>0.383307</td>\n",
              "      <td>1.580926</td>\n",
              "      <td>no</td>\n",
              "      <td>southeast</td>\n",
              "      <td>4449.46200</td>\n",
              "    </tr>\n",
              "    <tr>\n",
              "      <th>3</th>\n",
              "      <td>-0.441948</td>\n",
              "      <td>male</td>\n",
              "      <td>-1.305531</td>\n",
              "      <td>-0.908614</td>\n",
              "      <td>no</td>\n",
              "      <td>northwest</td>\n",
              "      <td>21984.47061</td>\n",
              "    </tr>\n",
              "    <tr>\n",
              "      <th>4</th>\n",
              "      <td>-0.513149</td>\n",
              "      <td>male</td>\n",
              "      <td>-0.292556</td>\n",
              "      <td>-0.908614</td>\n",
              "      <td>no</td>\n",
              "      <td>northwest</td>\n",
              "      <td>3866.85520</td>\n",
              "    </tr>\n",
              "    <tr>\n",
              "      <th>...</th>\n",
              "      <td>...</td>\n",
              "      <td>...</td>\n",
              "      <td>...</td>\n",
              "      <td>...</td>\n",
              "      <td>...</td>\n",
              "      <td>...</td>\n",
              "      <td>...</td>\n",
              "    </tr>\n",
              "    <tr>\n",
              "      <th>1333</th>\n",
              "      <td>0.768473</td>\n",
              "      <td>male</td>\n",
              "      <td>0.050297</td>\n",
              "      <td>1.580926</td>\n",
              "      <td>no</td>\n",
              "      <td>northwest</td>\n",
              "      <td>10600.54830</td>\n",
              "    </tr>\n",
              "    <tr>\n",
              "      <th>1334</th>\n",
              "      <td>-1.509965</td>\n",
              "      <td>female</td>\n",
              "      <td>0.206139</td>\n",
              "      <td>-0.908614</td>\n",
              "      <td>no</td>\n",
              "      <td>northeast</td>\n",
              "      <td>2205.98080</td>\n",
              "    </tr>\n",
              "    <tr>\n",
              "      <th>1335</th>\n",
              "      <td>-1.509965</td>\n",
              "      <td>female</td>\n",
              "      <td>1.014878</td>\n",
              "      <td>-0.908614</td>\n",
              "      <td>no</td>\n",
              "      <td>southeast</td>\n",
              "      <td>1629.83350</td>\n",
              "    </tr>\n",
              "    <tr>\n",
              "      <th>1336</th>\n",
              "      <td>-1.296362</td>\n",
              "      <td>female</td>\n",
              "      <td>-0.797813</td>\n",
              "      <td>-0.908614</td>\n",
              "      <td>no</td>\n",
              "      <td>southwest</td>\n",
              "      <td>2007.94500</td>\n",
              "    </tr>\n",
              "    <tr>\n",
              "      <th>1337</th>\n",
              "      <td>1.551686</td>\n",
              "      <td>female</td>\n",
              "      <td>-0.261388</td>\n",
              "      <td>-0.908614</td>\n",
              "      <td>yes</td>\n",
              "      <td>northwest</td>\n",
              "      <td>29141.36030</td>\n",
              "    </tr>\n",
              "  </tbody>\n",
              "</table>\n",
              "<p>1338 rows × 7 columns</p>\n",
              "</div>\n",
              "      <button class=\"colab-df-convert\" onclick=\"convertToInteractive('df-cfa9e5d8-2e1a-4d18-b0f2-bed748595aef')\"\n",
              "              title=\"Convert this dataframe to an interactive table.\"\n",
              "              style=\"display:none;\">\n",
              "        \n",
              "  <svg xmlns=\"http://www.w3.org/2000/svg\" height=\"24px\"viewBox=\"0 0 24 24\"\n",
              "       width=\"24px\">\n",
              "    <path d=\"M0 0h24v24H0V0z\" fill=\"none\"/>\n",
              "    <path d=\"M18.56 5.44l.94 2.06.94-2.06 2.06-.94-2.06-.94-.94-2.06-.94 2.06-2.06.94zm-11 1L8.5 8.5l.94-2.06 2.06-.94-2.06-.94L8.5 2.5l-.94 2.06-2.06.94zm10 10l.94 2.06.94-2.06 2.06-.94-2.06-.94-.94-2.06-.94 2.06-2.06.94z\"/><path d=\"M17.41 7.96l-1.37-1.37c-.4-.4-.92-.59-1.43-.59-.52 0-1.04.2-1.43.59L10.3 9.45l-7.72 7.72c-.78.78-.78 2.05 0 2.83L4 21.41c.39.39.9.59 1.41.59.51 0 1.02-.2 1.41-.59l7.78-7.78 2.81-2.81c.8-.78.8-2.07 0-2.86zM5.41 20L4 18.59l7.72-7.72 1.47 1.35L5.41 20z\"/>\n",
              "  </svg>\n",
              "      </button>\n",
              "      \n",
              "  <style>\n",
              "    .colab-df-container {\n",
              "      display:flex;\n",
              "      flex-wrap:wrap;\n",
              "      gap: 12px;\n",
              "    }\n",
              "\n",
              "    .colab-df-convert {\n",
              "      background-color: #E8F0FE;\n",
              "      border: none;\n",
              "      border-radius: 50%;\n",
              "      cursor: pointer;\n",
              "      display: none;\n",
              "      fill: #1967D2;\n",
              "      height: 32px;\n",
              "      padding: 0 0 0 0;\n",
              "      width: 32px;\n",
              "    }\n",
              "\n",
              "    .colab-df-convert:hover {\n",
              "      background-color: #E2EBFA;\n",
              "      box-shadow: 0px 1px 2px rgba(60, 64, 67, 0.3), 0px 1px 3px 1px rgba(60, 64, 67, 0.15);\n",
              "      fill: #174EA6;\n",
              "    }\n",
              "\n",
              "    [theme=dark] .colab-df-convert {\n",
              "      background-color: #3B4455;\n",
              "      fill: #D2E3FC;\n",
              "    }\n",
              "\n",
              "    [theme=dark] .colab-df-convert:hover {\n",
              "      background-color: #434B5C;\n",
              "      box-shadow: 0px 1px 3px 1px rgba(0, 0, 0, 0.15);\n",
              "      filter: drop-shadow(0px 1px 2px rgba(0, 0, 0, 0.3));\n",
              "      fill: #FFFFFF;\n",
              "    }\n",
              "  </style>\n",
              "\n",
              "      <script>\n",
              "        const buttonEl =\n",
              "          document.querySelector('#df-cfa9e5d8-2e1a-4d18-b0f2-bed748595aef button.colab-df-convert');\n",
              "        buttonEl.style.display =\n",
              "          google.colab.kernel.accessAllowed ? 'block' : 'none';\n",
              "\n",
              "        async function convertToInteractive(key) {\n",
              "          const element = document.querySelector('#df-cfa9e5d8-2e1a-4d18-b0f2-bed748595aef');\n",
              "          const dataTable =\n",
              "            await google.colab.kernel.invokeFunction('convertToInteractive',\n",
              "                                                     [key], {});\n",
              "          if (!dataTable) return;\n",
              "\n",
              "          const docLinkHtml = 'Like what you see? Visit the ' +\n",
              "            '<a target=\"_blank\" href=https://colab.research.google.com/notebooks/data_table.ipynb>data table notebook</a>'\n",
              "            + ' to learn more about interactive tables.';\n",
              "          element.innerHTML = '';\n",
              "          dataTable['output_type'] = 'display_data';\n",
              "          await google.colab.output.renderOutput(dataTable, element);\n",
              "          const docLink = document.createElement('div');\n",
              "          docLink.innerHTML = docLinkHtml;\n",
              "          element.appendChild(docLink);\n",
              "        }\n",
              "      </script>\n",
              "    </div>\n",
              "  </div>\n",
              "  "
            ]
          },
          "metadata": {},
          "execution_count": 153
        }
      ]
    },
    {
      "cell_type": "code",
      "source": [
        "from sklearn.preprocessing import LabelEncoder as LE\n",
        "Le = LE()"
      ],
      "metadata": {
        "id": "ykdwbqpUckVY"
      },
      "execution_count": 154,
      "outputs": []
    },
    {
      "cell_type": "code",
      "source": [
        "for cols in cats:\n",
        "    df[cols] = Le.fit_transform(df[cols])"
      ],
      "metadata": {
        "id": "f_zpCSAYc9Zx"
      },
      "execution_count": 155,
      "outputs": []
    },
    {
      "cell_type": "code",
      "source": [
        "df"
      ],
      "metadata": {
        "colab": {
          "base_uri": "https://localhost:8080/",
          "height": 424
        },
        "id": "_OSSjOYadn7h",
        "outputId": "e831fd7c-6adc-4d95-e908-c4b73fc1a9f5"
      },
      "execution_count": 156,
      "outputs": [
        {
          "output_type": "execute_result",
          "data": {
            "text/plain": [
              "           age  sex       bmi  children  smoker  region      charges\n",
              "0    -1.438764    0 -0.453320 -0.908614       1       3  16884.92400\n",
              "1    -1.509965    1  0.509621 -0.078767       0       2   1725.55230\n",
              "2    -0.797954    1  0.383307  1.580926       0       2   4449.46200\n",
              "3    -0.441948    1 -1.305531 -0.908614       0       1  21984.47061\n",
              "4    -0.513149    1 -0.292556 -0.908614       0       1   3866.85520\n",
              "...        ...  ...       ...       ...     ...     ...          ...\n",
              "1333  0.768473    1  0.050297  1.580926       0       1  10600.54830\n",
              "1334 -1.509965    0  0.206139 -0.908614       0       0   2205.98080\n",
              "1335 -1.509965    0  1.014878 -0.908614       0       2   1629.83350\n",
              "1336 -1.296362    0 -0.797813 -0.908614       0       3   2007.94500\n",
              "1337  1.551686    0 -0.261388 -0.908614       1       1  29141.36030\n",
              "\n",
              "[1338 rows x 7 columns]"
            ],
            "text/html": [
              "\n",
              "  <div id=\"df-f1da9fc3-42fa-45c3-b145-568b006a89ac\">\n",
              "    <div class=\"colab-df-container\">\n",
              "      <div>\n",
              "<style scoped>\n",
              "    .dataframe tbody tr th:only-of-type {\n",
              "        vertical-align: middle;\n",
              "    }\n",
              "\n",
              "    .dataframe tbody tr th {\n",
              "        vertical-align: top;\n",
              "    }\n",
              "\n",
              "    .dataframe thead th {\n",
              "        text-align: right;\n",
              "    }\n",
              "</style>\n",
              "<table border=\"1\" class=\"dataframe\">\n",
              "  <thead>\n",
              "    <tr style=\"text-align: right;\">\n",
              "      <th></th>\n",
              "      <th>age</th>\n",
              "      <th>sex</th>\n",
              "      <th>bmi</th>\n",
              "      <th>children</th>\n",
              "      <th>smoker</th>\n",
              "      <th>region</th>\n",
              "      <th>charges</th>\n",
              "    </tr>\n",
              "  </thead>\n",
              "  <tbody>\n",
              "    <tr>\n",
              "      <th>0</th>\n",
              "      <td>-1.438764</td>\n",
              "      <td>0</td>\n",
              "      <td>-0.453320</td>\n",
              "      <td>-0.908614</td>\n",
              "      <td>1</td>\n",
              "      <td>3</td>\n",
              "      <td>16884.92400</td>\n",
              "    </tr>\n",
              "    <tr>\n",
              "      <th>1</th>\n",
              "      <td>-1.509965</td>\n",
              "      <td>1</td>\n",
              "      <td>0.509621</td>\n",
              "      <td>-0.078767</td>\n",
              "      <td>0</td>\n",
              "      <td>2</td>\n",
              "      <td>1725.55230</td>\n",
              "    </tr>\n",
              "    <tr>\n",
              "      <th>2</th>\n",
              "      <td>-0.797954</td>\n",
              "      <td>1</td>\n",
              "      <td>0.383307</td>\n",
              "      <td>1.580926</td>\n",
              "      <td>0</td>\n",
              "      <td>2</td>\n",
              "      <td>4449.46200</td>\n",
              "    </tr>\n",
              "    <tr>\n",
              "      <th>3</th>\n",
              "      <td>-0.441948</td>\n",
              "      <td>1</td>\n",
              "      <td>-1.305531</td>\n",
              "      <td>-0.908614</td>\n",
              "      <td>0</td>\n",
              "      <td>1</td>\n",
              "      <td>21984.47061</td>\n",
              "    </tr>\n",
              "    <tr>\n",
              "      <th>4</th>\n",
              "      <td>-0.513149</td>\n",
              "      <td>1</td>\n",
              "      <td>-0.292556</td>\n",
              "      <td>-0.908614</td>\n",
              "      <td>0</td>\n",
              "      <td>1</td>\n",
              "      <td>3866.85520</td>\n",
              "    </tr>\n",
              "    <tr>\n",
              "      <th>...</th>\n",
              "      <td>...</td>\n",
              "      <td>...</td>\n",
              "      <td>...</td>\n",
              "      <td>...</td>\n",
              "      <td>...</td>\n",
              "      <td>...</td>\n",
              "      <td>...</td>\n",
              "    </tr>\n",
              "    <tr>\n",
              "      <th>1333</th>\n",
              "      <td>0.768473</td>\n",
              "      <td>1</td>\n",
              "      <td>0.050297</td>\n",
              "      <td>1.580926</td>\n",
              "      <td>0</td>\n",
              "      <td>1</td>\n",
              "      <td>10600.54830</td>\n",
              "    </tr>\n",
              "    <tr>\n",
              "      <th>1334</th>\n",
              "      <td>-1.509965</td>\n",
              "      <td>0</td>\n",
              "      <td>0.206139</td>\n",
              "      <td>-0.908614</td>\n",
              "      <td>0</td>\n",
              "      <td>0</td>\n",
              "      <td>2205.98080</td>\n",
              "    </tr>\n",
              "    <tr>\n",
              "      <th>1335</th>\n",
              "      <td>-1.509965</td>\n",
              "      <td>0</td>\n",
              "      <td>1.014878</td>\n",
              "      <td>-0.908614</td>\n",
              "      <td>0</td>\n",
              "      <td>2</td>\n",
              "      <td>1629.83350</td>\n",
              "    </tr>\n",
              "    <tr>\n",
              "      <th>1336</th>\n",
              "      <td>-1.296362</td>\n",
              "      <td>0</td>\n",
              "      <td>-0.797813</td>\n",
              "      <td>-0.908614</td>\n",
              "      <td>0</td>\n",
              "      <td>3</td>\n",
              "      <td>2007.94500</td>\n",
              "    </tr>\n",
              "    <tr>\n",
              "      <th>1337</th>\n",
              "      <td>1.551686</td>\n",
              "      <td>0</td>\n",
              "      <td>-0.261388</td>\n",
              "      <td>-0.908614</td>\n",
              "      <td>1</td>\n",
              "      <td>1</td>\n",
              "      <td>29141.36030</td>\n",
              "    </tr>\n",
              "  </tbody>\n",
              "</table>\n",
              "<p>1338 rows × 7 columns</p>\n",
              "</div>\n",
              "      <button class=\"colab-df-convert\" onclick=\"convertToInteractive('df-f1da9fc3-42fa-45c3-b145-568b006a89ac')\"\n",
              "              title=\"Convert this dataframe to an interactive table.\"\n",
              "              style=\"display:none;\">\n",
              "        \n",
              "  <svg xmlns=\"http://www.w3.org/2000/svg\" height=\"24px\"viewBox=\"0 0 24 24\"\n",
              "       width=\"24px\">\n",
              "    <path d=\"M0 0h24v24H0V0z\" fill=\"none\"/>\n",
              "    <path d=\"M18.56 5.44l.94 2.06.94-2.06 2.06-.94-2.06-.94-.94-2.06-.94 2.06-2.06.94zm-11 1L8.5 8.5l.94-2.06 2.06-.94-2.06-.94L8.5 2.5l-.94 2.06-2.06.94zm10 10l.94 2.06.94-2.06 2.06-.94-2.06-.94-.94-2.06-.94 2.06-2.06.94z\"/><path d=\"M17.41 7.96l-1.37-1.37c-.4-.4-.92-.59-1.43-.59-.52 0-1.04.2-1.43.59L10.3 9.45l-7.72 7.72c-.78.78-.78 2.05 0 2.83L4 21.41c.39.39.9.59 1.41.59.51 0 1.02-.2 1.41-.59l7.78-7.78 2.81-2.81c.8-.78.8-2.07 0-2.86zM5.41 20L4 18.59l7.72-7.72 1.47 1.35L5.41 20z\"/>\n",
              "  </svg>\n",
              "      </button>\n",
              "      \n",
              "  <style>\n",
              "    .colab-df-container {\n",
              "      display:flex;\n",
              "      flex-wrap:wrap;\n",
              "      gap: 12px;\n",
              "    }\n",
              "\n",
              "    .colab-df-convert {\n",
              "      background-color: #E8F0FE;\n",
              "      border: none;\n",
              "      border-radius: 50%;\n",
              "      cursor: pointer;\n",
              "      display: none;\n",
              "      fill: #1967D2;\n",
              "      height: 32px;\n",
              "      padding: 0 0 0 0;\n",
              "      width: 32px;\n",
              "    }\n",
              "\n",
              "    .colab-df-convert:hover {\n",
              "      background-color: #E2EBFA;\n",
              "      box-shadow: 0px 1px 2px rgba(60, 64, 67, 0.3), 0px 1px 3px 1px rgba(60, 64, 67, 0.15);\n",
              "      fill: #174EA6;\n",
              "    }\n",
              "\n",
              "    [theme=dark] .colab-df-convert {\n",
              "      background-color: #3B4455;\n",
              "      fill: #D2E3FC;\n",
              "    }\n",
              "\n",
              "    [theme=dark] .colab-df-convert:hover {\n",
              "      background-color: #434B5C;\n",
              "      box-shadow: 0px 1px 3px 1px rgba(0, 0, 0, 0.15);\n",
              "      filter: drop-shadow(0px 1px 2px rgba(0, 0, 0, 0.3));\n",
              "      fill: #FFFFFF;\n",
              "    }\n",
              "  </style>\n",
              "\n",
              "      <script>\n",
              "        const buttonEl =\n",
              "          document.querySelector('#df-f1da9fc3-42fa-45c3-b145-568b006a89ac button.colab-df-convert');\n",
              "        buttonEl.style.display =\n",
              "          google.colab.kernel.accessAllowed ? 'block' : 'none';\n",
              "\n",
              "        async function convertToInteractive(key) {\n",
              "          const element = document.querySelector('#df-f1da9fc3-42fa-45c3-b145-568b006a89ac');\n",
              "          const dataTable =\n",
              "            await google.colab.kernel.invokeFunction('convertToInteractive',\n",
              "                                                     [key], {});\n",
              "          if (!dataTable) return;\n",
              "\n",
              "          const docLinkHtml = 'Like what you see? Visit the ' +\n",
              "            '<a target=\"_blank\" href=https://colab.research.google.com/notebooks/data_table.ipynb>data table notebook</a>'\n",
              "            + ' to learn more about interactive tables.';\n",
              "          element.innerHTML = '';\n",
              "          dataTable['output_type'] = 'display_data';\n",
              "          await google.colab.output.renderOutput(dataTable, element);\n",
              "          const docLink = document.createElement('div');\n",
              "          docLink.innerHTML = docLinkHtml;\n",
              "          element.appendChild(docLink);\n",
              "        }\n",
              "      </script>\n",
              "    </div>\n",
              "  </div>\n",
              "  "
            ]
          },
          "metadata": {},
          "execution_count": 156
        }
      ]
    },
    {
      "cell_type": "code",
      "source": [
        "X = df.iloc[ : , : -1].to_numpy()\n",
        "y = df.iloc[ : , -1].to_numpy()"
      ],
      "metadata": {
        "id": "xl3GXH6BgS6r"
      },
      "execution_count": 157,
      "outputs": []
    },
    {
      "cell_type": "code",
      "source": [
        "from sklearn.model_selection import train_test_split\n",
        "\n",
        "X_train,X_test ,y_train, y_test = train_test_split(X , y , test_size = 0.25 , random_state = 123)"
      ],
      "metadata": {
        "id": "5uFMINjWgKnO"
      },
      "execution_count": 158,
      "outputs": []
    },
    {
      "cell_type": "code",
      "source": [
        "model = tf.keras.Sequential([\n",
        "    tf.keras.layers.Dense(units = 1, activation = \"linear\")\n",
        "])"
      ],
      "metadata": {
        "id": "mGEKIIhQd8-X"
      },
      "execution_count": 159,
      "outputs": []
    },
    {
      "cell_type": "code",
      "source": [
        "model.compile(loss=\"MeanSquaredError\" , optimizer=tf.keras.optimizers.Adam(0.01))"
      ],
      "metadata": {
        "id": "iKuflLKlfw9k"
      },
      "execution_count": 160,
      "outputs": []
    },
    {
      "cell_type": "code",
      "source": [
        "model.fit(X_train , y_train, epochs= 250)"
      ],
      "metadata": {
        "colab": {
          "base_uri": "https://localhost:8080/"
        },
        "id": "82hlwe6UgEZ6",
        "outputId": "7c9708be-37bc-4ab6-823a-9fce2dbbdb67"
      },
      "execution_count": 147,
      "outputs": [
        {
          "output_type": "stream",
          "name": "stdout",
          "text": [
            "Epoch 1/250\n",
            "43/43 [==============================] - 0s 2ms/step - loss: 23.3931\n",
            "Epoch 2/250\n",
            "43/43 [==============================] - 0s 1ms/step - loss: 8.8240\n",
            "Epoch 3/250\n",
            "43/43 [==============================] - 0s 1ms/step - loss: 5.9952\n",
            "Epoch 4/250\n",
            "43/43 [==============================] - 0s 1ms/step - loss: 4.9864\n",
            "Epoch 5/250\n",
            "43/43 [==============================] - 0s 2ms/step - loss: 4.9521\n",
            "Epoch 6/250\n",
            "43/43 [==============================] - 0s 1ms/step - loss: 4.5166\n",
            "Epoch 7/250\n",
            "43/43 [==============================] - 0s 1ms/step - loss: 4.4921\n",
            "Epoch 8/250\n",
            "43/43 [==============================] - 0s 1ms/step - loss: 4.0552\n",
            "Epoch 9/250\n",
            "43/43 [==============================] - 0s 2ms/step - loss: 3.9321\n",
            "Epoch 10/250\n",
            "43/43 [==============================] - 0s 2ms/step - loss: 3.7925\n",
            "Epoch 11/250\n",
            "43/43 [==============================] - 0s 1ms/step - loss: 3.7345\n",
            "Epoch 12/250\n",
            "43/43 [==============================] - 0s 2ms/step - loss: 3.9254\n",
            "Epoch 13/250\n",
            "43/43 [==============================] - 0s 1ms/step - loss: 3.9445\n",
            "Epoch 14/250\n",
            "43/43 [==============================] - 0s 2ms/step - loss: 3.8851\n",
            "Epoch 15/250\n",
            "43/43 [==============================] - 0s 2ms/step - loss: 3.6566\n",
            "Epoch 16/250\n",
            "43/43 [==============================] - 0s 1ms/step - loss: 3.7689\n",
            "Epoch 17/250\n",
            "43/43 [==============================] - 0s 1ms/step - loss: 3.7703\n",
            "Epoch 18/250\n",
            "43/43 [==============================] - 0s 2ms/step - loss: 3.7200\n",
            "Epoch 19/250\n",
            "43/43 [==============================] - 0s 2ms/step - loss: 3.9277\n",
            "Epoch 20/250\n",
            "43/43 [==============================] - 0s 1ms/step - loss: 3.7401\n",
            "Epoch 21/250\n",
            "43/43 [==============================] - 0s 2ms/step - loss: 3.8685\n",
            "Epoch 22/250\n",
            "43/43 [==============================] - 0s 1ms/step - loss: 3.7977\n",
            "Epoch 23/250\n",
            "43/43 [==============================] - 0s 2ms/step - loss: 3.8162\n",
            "Epoch 24/250\n",
            "43/43 [==============================] - 0s 1ms/step - loss: 3.6539\n",
            "Epoch 25/250\n",
            "43/43 [==============================] - 0s 2ms/step - loss: 4.4915\n",
            "Epoch 26/250\n",
            "43/43 [==============================] - 0s 1ms/step - loss: 3.8223\n",
            "Epoch 27/250\n",
            "43/43 [==============================] - 0s 2ms/step - loss: 3.6767\n",
            "Epoch 28/250\n",
            "43/43 [==============================] - 0s 2ms/step - loss: 3.6446\n",
            "Epoch 29/250\n",
            "43/43 [==============================] - 0s 1ms/step - loss: 3.9687\n",
            "Epoch 30/250\n",
            "43/43 [==============================] - 0s 2ms/step - loss: 3.9241\n",
            "Epoch 31/250\n",
            "43/43 [==============================] - 0s 2ms/step - loss: 4.0737\n",
            "Epoch 32/250\n",
            "43/43 [==============================] - 0s 2ms/step - loss: 3.7376\n",
            "Epoch 33/250\n",
            "43/43 [==============================] - 0s 2ms/step - loss: 3.6785\n",
            "Epoch 34/250\n",
            "43/43 [==============================] - 0s 2ms/step - loss: 3.7200\n",
            "Epoch 35/250\n",
            "43/43 [==============================] - 0s 1ms/step - loss: 3.6643\n",
            "Epoch 36/250\n",
            "43/43 [==============================] - 0s 1ms/step - loss: 3.8488\n",
            "Epoch 37/250\n",
            "43/43 [==============================] - 0s 1ms/step - loss: 3.8524\n",
            "Epoch 38/250\n",
            "43/43 [==============================] - 0s 2ms/step - loss: 3.8803\n",
            "Epoch 39/250\n",
            "43/43 [==============================] - 0s 1ms/step - loss: 4.3872\n",
            "Epoch 40/250\n",
            "43/43 [==============================] - 0s 1ms/step - loss: 3.5813\n",
            "Epoch 41/250\n",
            "43/43 [==============================] - 0s 2ms/step - loss: 4.2787\n",
            "Epoch 42/250\n",
            "43/43 [==============================] - 0s 2ms/step - loss: 3.7190\n",
            "Epoch 43/250\n",
            "43/43 [==============================] - 0s 1ms/step - loss: 3.9471\n",
            "Epoch 44/250\n",
            "43/43 [==============================] - 0s 1ms/step - loss: 3.7080\n",
            "Epoch 45/250\n",
            "43/43 [==============================] - 0s 2ms/step - loss: 3.7184\n",
            "Epoch 46/250\n",
            "43/43 [==============================] - 0s 2ms/step - loss: 3.5748\n",
            "Epoch 47/250\n",
            "43/43 [==============================] - 0s 1ms/step - loss: 3.7758\n",
            "Epoch 48/250\n",
            "43/43 [==============================] - 0s 1ms/step - loss: 3.9092\n",
            "Epoch 49/250\n",
            "43/43 [==============================] - 0s 2ms/step - loss: 3.6573\n",
            "Epoch 50/250\n",
            "43/43 [==============================] - 0s 2ms/step - loss: 3.7248\n",
            "Epoch 51/250\n",
            "43/43 [==============================] - 0s 2ms/step - loss: 4.1308\n",
            "Epoch 52/250\n",
            "43/43 [==============================] - 0s 1ms/step - loss: 3.7051\n",
            "Epoch 53/250\n",
            "43/43 [==============================] - 0s 1ms/step - loss: 3.9837\n",
            "Epoch 54/250\n",
            "43/43 [==============================] - 0s 2ms/step - loss: 3.7155\n",
            "Epoch 55/250\n",
            "43/43 [==============================] - 0s 2ms/step - loss: 3.5788\n",
            "Epoch 56/250\n",
            "43/43 [==============================] - 0s 1ms/step - loss: 3.7033\n",
            "Epoch 57/250\n",
            "43/43 [==============================] - 0s 1ms/step - loss: 3.6351\n",
            "Epoch 58/250\n",
            "43/43 [==============================] - 0s 2ms/step - loss: 3.6045\n",
            "Epoch 59/250\n",
            "43/43 [==============================] - 0s 2ms/step - loss: 3.6473\n",
            "Epoch 60/250\n",
            "43/43 [==============================] - 0s 2ms/step - loss: 4.2073\n",
            "Epoch 61/250\n",
            "43/43 [==============================] - 0s 2ms/step - loss: 3.4955\n",
            "Epoch 62/250\n",
            "43/43 [==============================] - 0s 2ms/step - loss: 3.5114\n",
            "Epoch 63/250\n",
            "43/43 [==============================] - 0s 2ms/step - loss: 3.6228\n",
            "Epoch 64/250\n",
            "43/43 [==============================] - 0s 1ms/step - loss: 3.7458\n",
            "Epoch 65/250\n",
            "43/43 [==============================] - 0s 1ms/step - loss: 3.8762\n",
            "Epoch 66/250\n",
            "43/43 [==============================] - 0s 1ms/step - loss: 3.7147\n",
            "Epoch 67/250\n",
            "43/43 [==============================] - 0s 2ms/step - loss: 3.6523\n",
            "Epoch 68/250\n",
            "43/43 [==============================] - 0s 2ms/step - loss: 3.6240\n",
            "Epoch 69/250\n",
            "43/43 [==============================] - 0s 2ms/step - loss: 3.7318\n",
            "Epoch 70/250\n",
            "43/43 [==============================] - 0s 2ms/step - loss: 4.0567\n",
            "Epoch 71/250\n",
            "43/43 [==============================] - 0s 2ms/step - loss: 4.2533\n",
            "Epoch 72/250\n",
            "43/43 [==============================] - 0s 2ms/step - loss: 3.6661\n",
            "Epoch 73/250\n",
            "43/43 [==============================] - 0s 2ms/step - loss: 3.8207\n",
            "Epoch 74/250\n",
            "43/43 [==============================] - 0s 2ms/step - loss: 3.6525\n",
            "Epoch 75/250\n",
            "43/43 [==============================] - 0s 2ms/step - loss: 3.6791\n",
            "Epoch 76/250\n",
            "43/43 [==============================] - 0s 2ms/step - loss: 3.8704\n",
            "Epoch 77/250\n",
            "43/43 [==============================] - 0s 2ms/step - loss: 4.4324\n",
            "Epoch 78/250\n",
            "43/43 [==============================] - 0s 2ms/step - loss: 4.2906\n",
            "Epoch 79/250\n",
            "43/43 [==============================] - 0s 2ms/step - loss: 3.7301\n",
            "Epoch 80/250\n",
            "43/43 [==============================] - 0s 1ms/step - loss: 3.8892\n",
            "Epoch 81/250\n",
            "43/43 [==============================] - 0s 1ms/step - loss: 4.5222\n",
            "Epoch 82/250\n",
            "43/43 [==============================] - 0s 2ms/step - loss: 3.6678\n",
            "Epoch 83/250\n",
            "43/43 [==============================] - 0s 1ms/step - loss: 3.5727\n",
            "Epoch 84/250\n",
            "43/43 [==============================] - 0s 2ms/step - loss: 3.7510\n",
            "Epoch 85/250\n",
            "43/43 [==============================] - 0s 2ms/step - loss: 3.6740\n",
            "Epoch 86/250\n",
            "43/43 [==============================] - 0s 2ms/step - loss: 3.6904\n",
            "Epoch 87/250\n",
            "43/43 [==============================] - 0s 1ms/step - loss: 3.6167\n",
            "Epoch 88/250\n",
            "43/43 [==============================] - 0s 2ms/step - loss: 3.7892\n",
            "Epoch 89/250\n",
            "43/43 [==============================] - 0s 2ms/step - loss: 3.9294\n",
            "Epoch 90/250\n",
            "43/43 [==============================] - 0s 2ms/step - loss: 3.8441\n",
            "Epoch 91/250\n",
            "43/43 [==============================] - 0s 2ms/step - loss: 3.7373\n",
            "Epoch 92/250\n",
            "43/43 [==============================] - 0s 2ms/step - loss: 4.1261\n",
            "Epoch 93/250\n",
            "43/43 [==============================] - 0s 2ms/step - loss: 3.5531\n",
            "Epoch 94/250\n",
            "43/43 [==============================] - 0s 2ms/step - loss: 3.7916\n",
            "Epoch 95/250\n",
            "43/43 [==============================] - 0s 2ms/step - loss: 3.7589\n",
            "Epoch 96/250\n",
            "43/43 [==============================] - 0s 2ms/step - loss: 3.7926\n",
            "Epoch 97/250\n",
            "43/43 [==============================] - 0s 2ms/step - loss: 3.7643\n",
            "Epoch 98/250\n",
            "43/43 [==============================] - 0s 3ms/step - loss: 3.6452\n",
            "Epoch 99/250\n",
            "43/43 [==============================] - 0s 2ms/step - loss: 3.7760\n",
            "Epoch 100/250\n",
            "43/43 [==============================] - 0s 2ms/step - loss: 3.6739\n",
            "Epoch 101/250\n",
            "43/43 [==============================] - 0s 2ms/step - loss: 3.6753\n",
            "Epoch 102/250\n",
            "43/43 [==============================] - 0s 2ms/step - loss: 3.6529\n",
            "Epoch 103/250\n",
            "43/43 [==============================] - 0s 2ms/step - loss: 3.6317\n",
            "Epoch 104/250\n",
            "43/43 [==============================] - 0s 2ms/step - loss: 3.8271\n",
            "Epoch 105/250\n",
            "43/43 [==============================] - 0s 3ms/step - loss: 4.7463\n",
            "Epoch 106/250\n",
            "43/43 [==============================] - 0s 2ms/step - loss: 3.6418\n",
            "Epoch 107/250\n",
            "43/43 [==============================] - 0s 2ms/step - loss: 3.5346\n",
            "Epoch 108/250\n",
            "43/43 [==============================] - 0s 3ms/step - loss: 3.6371\n",
            "Epoch 109/250\n",
            "43/43 [==============================] - 0s 2ms/step - loss: 3.7495\n",
            "Epoch 110/250\n",
            "43/43 [==============================] - 0s 2ms/step - loss: 4.8980\n",
            "Epoch 111/250\n",
            "43/43 [==============================] - 0s 2ms/step - loss: 3.7808\n",
            "Epoch 112/250\n",
            "43/43 [==============================] - 0s 2ms/step - loss: 3.7894\n",
            "Epoch 113/250\n",
            "43/43 [==============================] - 0s 3ms/step - loss: 3.7979\n",
            "Epoch 114/250\n",
            "43/43 [==============================] - 0s 3ms/step - loss: 3.6224\n",
            "Epoch 115/250\n",
            "43/43 [==============================] - 0s 2ms/step - loss: 3.4838\n",
            "Epoch 116/250\n",
            "43/43 [==============================] - 0s 2ms/step - loss: 3.5945\n",
            "Epoch 117/250\n",
            "43/43 [==============================] - 0s 2ms/step - loss: 4.6662\n",
            "Epoch 118/250\n",
            "43/43 [==============================] - 0s 2ms/step - loss: 4.1528\n",
            "Epoch 119/250\n",
            "43/43 [==============================] - 0s 2ms/step - loss: 3.6399\n",
            "Epoch 120/250\n",
            "43/43 [==============================] - 0s 2ms/step - loss: 3.5709\n",
            "Epoch 121/250\n",
            "43/43 [==============================] - 0s 2ms/step - loss: 3.9257\n",
            "Epoch 122/250\n",
            "43/43 [==============================] - 0s 2ms/step - loss: 3.8454\n",
            "Epoch 123/250\n",
            "43/43 [==============================] - 0s 2ms/step - loss: 4.2417\n",
            "Epoch 124/250\n",
            "43/43 [==============================] - 0s 2ms/step - loss: 3.6802\n",
            "Epoch 125/250\n",
            "43/43 [==============================] - 0s 2ms/step - loss: 3.6065\n",
            "Epoch 126/250\n",
            "43/43 [==============================] - 0s 2ms/step - loss: 3.7602\n",
            "Epoch 127/250\n",
            "43/43 [==============================] - 0s 2ms/step - loss: 4.1105\n",
            "Epoch 128/250\n",
            "43/43 [==============================] - 0s 2ms/step - loss: 3.7540\n",
            "Epoch 129/250\n",
            "43/43 [==============================] - 0s 2ms/step - loss: 3.7218\n",
            "Epoch 130/250\n",
            "43/43 [==============================] - 0s 2ms/step - loss: 3.6851\n",
            "Epoch 131/250\n",
            "43/43 [==============================] - 0s 2ms/step - loss: 3.7040\n",
            "Epoch 132/250\n",
            "43/43 [==============================] - 0s 2ms/step - loss: 3.6440\n",
            "Epoch 133/250\n",
            "43/43 [==============================] - 0s 2ms/step - loss: 3.4859\n",
            "Epoch 134/250\n",
            "43/43 [==============================] - 0s 2ms/step - loss: 3.5127\n",
            "Epoch 135/250\n",
            "43/43 [==============================] - 0s 2ms/step - loss: 4.4604\n",
            "Epoch 136/250\n",
            "43/43 [==============================] - 0s 2ms/step - loss: 3.8218\n",
            "Epoch 137/250\n",
            "43/43 [==============================] - 0s 2ms/step - loss: 3.6552\n",
            "Epoch 138/250\n",
            "43/43 [==============================] - 0s 2ms/step - loss: 3.6077\n",
            "Epoch 139/250\n",
            "43/43 [==============================] - 0s 2ms/step - loss: 3.5966\n",
            "Epoch 140/250\n",
            "43/43 [==============================] - 0s 2ms/step - loss: 3.6241\n",
            "Epoch 141/250\n",
            "43/43 [==============================] - 0s 2ms/step - loss: 3.8131\n",
            "Epoch 142/250\n",
            "43/43 [==============================] - 0s 2ms/step - loss: 3.6613\n",
            "Epoch 143/250\n",
            "43/43 [==============================] - 0s 2ms/step - loss: 3.9316\n",
            "Epoch 144/250\n",
            "43/43 [==============================] - 0s 2ms/step - loss: 3.6913\n",
            "Epoch 145/250\n",
            "43/43 [==============================] - 0s 2ms/step - loss: 4.5929\n",
            "Epoch 146/250\n",
            "43/43 [==============================] - 0s 2ms/step - loss: 3.5084\n",
            "Epoch 147/250\n",
            "43/43 [==============================] - 0s 2ms/step - loss: 3.5936\n",
            "Epoch 148/250\n",
            "43/43 [==============================] - 0s 2ms/step - loss: 3.5207\n",
            "Epoch 149/250\n",
            "43/43 [==============================] - 0s 2ms/step - loss: 3.6028\n",
            "Epoch 150/250\n",
            "43/43 [==============================] - 0s 2ms/step - loss: 3.6725\n",
            "Epoch 151/250\n",
            "43/43 [==============================] - 0s 2ms/step - loss: 3.8321\n",
            "Epoch 152/250\n",
            "43/43 [==============================] - 0s 2ms/step - loss: 3.6255\n",
            "Epoch 153/250\n",
            "43/43 [==============================] - 0s 2ms/step - loss: 4.5445\n",
            "Epoch 154/250\n",
            "43/43 [==============================] - 0s 2ms/step - loss: 3.4967\n",
            "Epoch 155/250\n",
            "43/43 [==============================] - 0s 2ms/step - loss: 3.7787\n",
            "Epoch 156/250\n",
            "43/43 [==============================] - 0s 2ms/step - loss: 4.0131\n",
            "Epoch 157/250\n",
            "43/43 [==============================] - 0s 2ms/step - loss: 3.8044\n",
            "Epoch 158/250\n",
            "43/43 [==============================] - 0s 2ms/step - loss: 3.6501\n",
            "Epoch 159/250\n",
            "43/43 [==============================] - 0s 2ms/step - loss: 3.6511\n",
            "Epoch 160/250\n",
            "43/43 [==============================] - 0s 2ms/step - loss: 3.5488\n",
            "Epoch 161/250\n",
            "43/43 [==============================] - 0s 1ms/step - loss: 3.9736\n",
            "Epoch 162/250\n",
            "43/43 [==============================] - 0s 2ms/step - loss: 3.9712\n",
            "Epoch 163/250\n",
            "43/43 [==============================] - 0s 2ms/step - loss: 3.6521\n",
            "Epoch 164/250\n",
            "43/43 [==============================] - 0s 2ms/step - loss: 3.7389\n",
            "Epoch 165/250\n",
            "43/43 [==============================] - 0s 2ms/step - loss: 3.4772\n",
            "Epoch 166/250\n",
            "43/43 [==============================] - 0s 2ms/step - loss: 3.8118\n",
            "Epoch 167/250\n",
            "43/43 [==============================] - 0s 2ms/step - loss: 3.6360\n",
            "Epoch 168/250\n",
            "43/43 [==============================] - 0s 1ms/step - loss: 3.6709\n",
            "Epoch 169/250\n",
            "43/43 [==============================] - 0s 1ms/step - loss: 3.6344\n",
            "Epoch 170/250\n",
            "43/43 [==============================] - 0s 2ms/step - loss: 3.4976\n",
            "Epoch 171/250\n",
            "43/43 [==============================] - 0s 2ms/step - loss: 3.7577\n",
            "Epoch 172/250\n",
            "43/43 [==============================] - 0s 2ms/step - loss: 3.7126\n",
            "Epoch 173/250\n",
            "43/43 [==============================] - 0s 2ms/step - loss: 3.6122\n",
            "Epoch 174/250\n",
            "43/43 [==============================] - 0s 2ms/step - loss: 3.6203\n",
            "Epoch 175/250\n",
            "43/43 [==============================] - 0s 1ms/step - loss: 3.6895\n",
            "Epoch 176/250\n",
            "43/43 [==============================] - 0s 2ms/step - loss: 3.8461\n",
            "Epoch 177/250\n",
            "43/43 [==============================] - 0s 2ms/step - loss: 3.6952\n",
            "Epoch 178/250\n",
            "43/43 [==============================] - 0s 2ms/step - loss: 4.1570\n",
            "Epoch 179/250\n",
            "43/43 [==============================] - 0s 2ms/step - loss: 3.4485\n",
            "Epoch 180/250\n",
            "43/43 [==============================] - 0s 2ms/step - loss: 3.6923\n",
            "Epoch 181/250\n",
            "43/43 [==============================] - 0s 2ms/step - loss: 3.6172\n",
            "Epoch 182/250\n",
            "43/43 [==============================] - 0s 2ms/step - loss: 3.7569\n",
            "Epoch 183/250\n",
            "43/43 [==============================] - 0s 2ms/step - loss: 3.7860\n",
            "Epoch 184/250\n",
            "43/43 [==============================] - 0s 2ms/step - loss: 3.9454\n",
            "Epoch 185/250\n",
            "43/43 [==============================] - 0s 2ms/step - loss: 3.5400\n",
            "Epoch 186/250\n",
            "43/43 [==============================] - 0s 2ms/step - loss: 3.6147\n",
            "Epoch 187/250\n",
            "43/43 [==============================] - 0s 2ms/step - loss: 3.6823\n",
            "Epoch 188/250\n",
            "43/43 [==============================] - 0s 2ms/step - loss: 3.8575\n",
            "Epoch 189/250\n",
            "43/43 [==============================] - 0s 2ms/step - loss: 3.8021\n",
            "Epoch 190/250\n",
            "43/43 [==============================] - 0s 2ms/step - loss: 3.6360\n",
            "Epoch 191/250\n",
            "43/43 [==============================] - 0s 2ms/step - loss: 3.5123\n",
            "Epoch 192/250\n",
            "43/43 [==============================] - 0s 2ms/step - loss: 3.5318\n",
            "Epoch 193/250\n",
            "43/43 [==============================] - 0s 2ms/step - loss: 3.6336\n",
            "Epoch 194/250\n",
            "43/43 [==============================] - 0s 2ms/step - loss: 3.6784\n",
            "Epoch 195/250\n",
            "43/43 [==============================] - 0s 2ms/step - loss: 3.7131\n",
            "Epoch 196/250\n",
            "43/43 [==============================] - 0s 2ms/step - loss: 3.6474\n",
            "Epoch 197/250\n",
            "43/43 [==============================] - 0s 2ms/step - loss: 3.6084\n",
            "Epoch 198/250\n",
            "43/43 [==============================] - 0s 2ms/step - loss: 3.5900\n",
            "Epoch 199/250\n",
            "43/43 [==============================] - 0s 2ms/step - loss: 3.6899\n",
            "Epoch 200/250\n",
            "43/43 [==============================] - 0s 2ms/step - loss: 3.5892\n",
            "Epoch 201/250\n",
            "43/43 [==============================] - 0s 2ms/step - loss: 3.7986\n",
            "Epoch 202/250\n",
            "43/43 [==============================] - 0s 2ms/step - loss: 3.6433\n",
            "Epoch 203/250\n",
            "43/43 [==============================] - 0s 2ms/step - loss: 3.6329\n",
            "Epoch 204/250\n",
            "43/43 [==============================] - 0s 2ms/step - loss: 3.6755\n",
            "Epoch 205/250\n",
            "43/43 [==============================] - 0s 1ms/step - loss: 3.7865\n",
            "Epoch 206/250\n",
            "43/43 [==============================] - 0s 2ms/step - loss: 3.6681\n",
            "Epoch 207/250\n",
            "43/43 [==============================] - 0s 2ms/step - loss: 3.6205\n",
            "Epoch 208/250\n",
            "43/43 [==============================] - 0s 2ms/step - loss: 4.0152\n",
            "Epoch 209/250\n",
            "43/43 [==============================] - 0s 2ms/step - loss: 3.9230\n",
            "Epoch 210/250\n",
            "43/43 [==============================] - 0s 2ms/step - loss: 4.1628\n",
            "Epoch 211/250\n",
            "43/43 [==============================] - 0s 2ms/step - loss: 3.5851\n",
            "Epoch 212/250\n",
            "43/43 [==============================] - 0s 2ms/step - loss: 3.7903\n",
            "Epoch 213/250\n",
            "43/43 [==============================] - 0s 2ms/step - loss: 3.6726\n",
            "Epoch 214/250\n",
            "43/43 [==============================] - 0s 2ms/step - loss: 3.5802\n",
            "Epoch 215/250\n",
            "43/43 [==============================] - 0s 2ms/step - loss: 3.9675\n",
            "Epoch 216/250\n",
            "43/43 [==============================] - 0s 2ms/step - loss: 3.5427\n",
            "Epoch 217/250\n",
            "43/43 [==============================] - 0s 2ms/step - loss: 3.9155\n",
            "Epoch 218/250\n",
            "43/43 [==============================] - 0s 2ms/step - loss: 3.9188\n",
            "Epoch 219/250\n",
            "43/43 [==============================] - 0s 2ms/step - loss: 3.6485\n",
            "Epoch 220/250\n",
            "43/43 [==============================] - 0s 1ms/step - loss: 3.6497\n",
            "Epoch 221/250\n",
            "43/43 [==============================] - 0s 2ms/step - loss: 3.6719\n",
            "Epoch 222/250\n",
            "43/43 [==============================] - 0s 2ms/step - loss: 3.7775\n",
            "Epoch 223/250\n",
            "43/43 [==============================] - 0s 2ms/step - loss: 4.0753\n",
            "Epoch 224/250\n",
            "43/43 [==============================] - 0s 2ms/step - loss: 4.0435\n",
            "Epoch 225/250\n",
            "43/43 [==============================] - 0s 2ms/step - loss: 4.0227\n",
            "Epoch 226/250\n",
            "43/43 [==============================] - 0s 2ms/step - loss: 4.0012\n",
            "Epoch 227/250\n",
            "43/43 [==============================] - 0s 2ms/step - loss: 3.5113\n",
            "Epoch 228/250\n",
            "43/43 [==============================] - 0s 2ms/step - loss: 3.6571\n",
            "Epoch 229/250\n",
            "43/43 [==============================] - 0s 2ms/step - loss: 3.5261\n",
            "Epoch 230/250\n",
            "43/43 [==============================] - 0s 2ms/step - loss: 3.6723\n",
            "Epoch 231/250\n",
            "43/43 [==============================] - 0s 2ms/step - loss: 3.6829\n",
            "Epoch 232/250\n",
            "43/43 [==============================] - 0s 2ms/step - loss: 3.6189\n",
            "Epoch 233/250\n",
            "43/43 [==============================] - 0s 2ms/step - loss: 3.4826\n",
            "Epoch 234/250\n",
            "43/43 [==============================] - 0s 2ms/step - loss: 3.6088\n",
            "Epoch 235/250\n",
            "43/43 [==============================] - 0s 2ms/step - loss: 3.6673\n",
            "Epoch 236/250\n",
            "43/43 [==============================] - 0s 2ms/step - loss: 4.1070\n",
            "Epoch 237/250\n",
            "43/43 [==============================] - 0s 1ms/step - loss: 3.6343\n",
            "Epoch 238/250\n",
            "43/43 [==============================] - 0s 2ms/step - loss: 3.9100\n",
            "Epoch 239/250\n",
            "43/43 [==============================] - 0s 2ms/step - loss: 4.0948\n",
            "Epoch 240/250\n",
            "43/43 [==============================] - 0s 2ms/step - loss: 3.6301\n",
            "Epoch 241/250\n",
            "43/43 [==============================] - 0s 2ms/step - loss: 3.5871\n",
            "Epoch 242/250\n",
            "43/43 [==============================] - 0s 2ms/step - loss: 3.7021\n",
            "Epoch 243/250\n",
            "43/43 [==============================] - 0s 2ms/step - loss: 3.5707\n",
            "Epoch 244/250\n",
            "43/43 [==============================] - 0s 2ms/step - loss: 3.8077\n",
            "Epoch 245/250\n",
            "43/43 [==============================] - 0s 2ms/step - loss: 3.5411\n",
            "Epoch 246/250\n",
            "43/43 [==============================] - 0s 2ms/step - loss: 3.6301\n",
            "Epoch 247/250\n",
            "43/43 [==============================] - 0s 2ms/step - loss: 3.8791\n",
            "Epoch 248/250\n",
            "43/43 [==============================] - 0s 2ms/step - loss: 3.6960\n",
            "Epoch 249/250\n",
            "43/43 [==============================] - 0s 2ms/step - loss: 3.5665\n",
            "Epoch 250/250\n",
            "43/43 [==============================] - 0s 2ms/step - loss: 3.9762\n"
          ]
        },
        {
          "output_type": "execute_result",
          "data": {
            "text/plain": [
              "<keras.callbacks.History at 0x7f3a68f01e20>"
            ]
          },
          "metadata": {},
          "execution_count": 147
        }
      ]
    },
    {
      "cell_type": "code",
      "source": [
        "y_npred = model.predict(X_test)"
      ],
      "metadata": {
        "colab": {
          "base_uri": "https://localhost:8080/"
        },
        "id": "D8h-6mD-iTHW",
        "outputId": "b81a2c38-ab36-47dd-e040-16e8602d61f0"
      },
      "execution_count": 161,
      "outputs": [
        {
          "output_type": "stream",
          "name": "stdout",
          "text": [
            "11/11 [==============================] - 0s 2ms/step\n"
          ]
        }
      ]
    },
    {
      "cell_type": "code",
      "source": [
        "from sklearn.linear_model import LinearRegression as LR\n",
        "Lr = LR()"
      ],
      "metadata": {
        "id": "2mmJihq-g_nC"
      },
      "execution_count": 162,
      "outputs": []
    },
    {
      "cell_type": "code",
      "source": [
        "Lr.fit(X_train , y_train)"
      ],
      "metadata": {
        "colab": {
          "base_uri": "https://localhost:8080/"
        },
        "id": "o_MbTBQ-hwWf",
        "outputId": "d5b64c90-0539-4312-bd14-23993b9e9df1"
      },
      "execution_count": 163,
      "outputs": [
        {
          "output_type": "execute_result",
          "data": {
            "text/plain": [
              "LinearRegression()"
            ]
          },
          "metadata": {},
          "execution_count": 163
        }
      ]
    },
    {
      "cell_type": "code",
      "source": [
        "from sklearn.metrics import mean_squared_error as MSE\n",
        "y_pred = Lr.predict(X_test)"
      ],
      "metadata": {
        "id": "jZKpykKnhzgt"
      },
      "execution_count": 164,
      "outputs": []
    },
    {
      "cell_type": "code",
      "source": [
        "MSE(y_test , y_npred)"
      ],
      "metadata": {
        "colab": {
          "base_uri": "https://localhost:8080/"
        },
        "id": "waDypUuPiAfS",
        "outputId": "36450024-30f2-4f30-8387-7357502de629"
      },
      "execution_count": 166,
      "outputs": [
        {
          "output_type": "execute_result",
          "data": {
            "text/plain": [
              "329046242.47810626"
            ]
          },
          "metadata": {},
          "execution_count": 166
        }
      ]
    },
    {
      "cell_type": "code",
      "source": [
        "plt.scatter(X_test[: , 0].squeeze(),y_test,c = 'r')\n",
        "plt.scatter(X_test[: , 0].squeeze(), y_pred , c = 'b')\n",
        "plt.legend([\"Actual\", \"Predicted\"])"
      ],
      "metadata": {
        "colab": {
          "base_uri": "https://localhost:8080/",
          "height": 282
        },
        "id": "1B6XlI-BidGp",
        "outputId": "5bc6d51d-9697-4d5c-ec02-72c05ba8b5d7"
      },
      "execution_count": 168,
      "outputs": [
        {
          "output_type": "execute_result",
          "data": {
            "text/plain": [
              "<matplotlib.legend.Legend at 0x7f3a68d9c160>"
            ]
          },
          "metadata": {},
          "execution_count": 168
        },
        {
          "output_type": "display_data",
          "data": {
            "text/plain": [
              "<Figure size 432x288 with 1 Axes>"
            ],
            "image/png": "[encoded data removed]"
          },
          "metadata": {
            "needs_background": "light"
          }
        }
      ]
    },
    {
      "cell_type": "markdown",
      "source": [
        "# **`Logistic Regression`**"
      ],
      "metadata": {
        "id": "dZDd7SPKk2cS"
      }
    },
    {
      "cell_type": "code",
      "source": [
        "from sklearn.datasets import load_digits"
      ],
      "metadata": {
        "id": "X5PQY8BQjFke"
      },
      "execution_count": 134,
      "outputs": []
    },
    {
      "cell_type": "code",
      "source": [
        "data = load_digits()"
      ],
      "metadata": {
        "id": "sH9SvK3bjKVG"
      },
      "execution_count": 135,
      "outputs": []
    },
    {
      "cell_type": "code",
      "source": [
        "X = data['data']\n",
        "y = data['target']"
      ],
      "metadata": {
        "id": "bDY4zOoDjj2X"
      },
      "execution_count": 136,
      "outputs": []
    },
    {
      "cell_type": "code",
      "source": [
        "from sklearn.model_selection import train_test_split\n",
        "\n",
        "X_train,X_test ,y_train, y_test = train_test_split(X , y , test_size = 0.25 , random_state = 123)"
      ],
      "metadata": {
        "id": "67LtfXDnms6R"
      },
      "execution_count": 137,
      "outputs": []
    },
    {
      "cell_type": "code",
      "source": [
        "model = tf.keras.models.Sequential([\n",
        "  tf.keras.layers.Dense(128, activation='relu'),\n",
        "  tf.keras.layers.Dense(10)\n",
        "])\n",
        "model.compile(\n",
        "    optimizer=tf.keras.optimizers.Adam(0.001),\n",
        "    loss=tf.keras.losses.SparseCategoricalCrossentropy(from_logits=True),\n",
        "    metrics=[tf.keras.metrics.SparseCategoricalAccuracy()],\n",
        ")\n",
        "\n",
        "model.fit(\n",
        "    X_train,y_train,\n",
        "    epochs=20,\n",
        ")"
      ],
      "metadata": {
        "colab": {
          "base_uri": "https://localhost:8080/"
        },
        "id": "60VnGdJclxd5",
        "outputId": "cee7cf74-0eea-4986-b8d4-f296ece1ee94"
      },
      "execution_count": 138,
      "outputs": [
        {
          "output_type": "stream",
          "name": "stdout",
          "text": [
            "Epoch 1/20\n",
            "43/43 [==============================] - 0s 2ms/step - loss: 3.2157 - sparse_categorical_accuracy: 0.4224\n",
            "Epoch 2/20\n",
            "43/43 [==============================] - 0s 2ms/step - loss: 0.4308 - sparse_categorical_accuracy: 0.8641\n",
            "Epoch 3/20\n",
            "43/43 [==============================] - 0s 2ms/step - loss: 0.2193 - sparse_categorical_accuracy: 0.9332\n",
            "Epoch 4/20\n",
            "43/43 [==============================] - 0s 2ms/step - loss: 0.1487 - sparse_categorical_accuracy: 0.9503\n",
            "Epoch 5/20\n",
            "43/43 [==============================] - 0s 2ms/step - loss: 0.1065 - sparse_categorical_accuracy: 0.9740\n",
            "Epoch 6/20\n",
            "43/43 [==============================] - 0s 2ms/step - loss: 0.0844 - sparse_categorical_accuracy: 0.9755\n",
            "Epoch 7/20\n",
            "43/43 [==============================] - 0s 2ms/step - loss: 0.0652 - sparse_categorical_accuracy: 0.9844\n",
            "Epoch 8/20\n",
            "43/43 [==============================] - 0s 2ms/step - loss: 0.0532 - sparse_categorical_accuracy: 0.9918\n",
            "Epoch 9/20\n",
            "43/43 [==============================] - 0s 2ms/step - loss: 0.0419 - sparse_categorical_accuracy: 0.9955\n",
            "Epoch 10/20\n",
            "43/43 [==============================] - 0s 2ms/step - loss: 0.0354 - sparse_categorical_accuracy: 0.9963\n",
            "Epoch 11/20\n",
            "43/43 [==============================] - 0s 2ms/step - loss: 0.0309 - sparse_categorical_accuracy: 0.9978\n",
            "Epoch 12/20\n",
            "43/43 [==============================] - 0s 2ms/step - loss: 0.0249 - sparse_categorical_accuracy: 1.0000\n",
            "Epoch 13/20\n",
            "43/43 [==============================] - 0s 2ms/step - loss: 0.0211 - sparse_categorical_accuracy: 1.0000\n",
            "Epoch 14/20\n",
            "43/43 [==============================] - 0s 2ms/step - loss: 0.0183 - sparse_categorical_accuracy: 0.9993\n",
            "Epoch 15/20\n",
            "43/43 [==============================] - 0s 2ms/step - loss: 0.0155 - sparse_categorical_accuracy: 1.0000\n",
            "Epoch 16/20\n",
            "43/43 [==============================] - 0s 2ms/step - loss: 0.0136 - sparse_categorical_accuracy: 1.0000\n",
            "Epoch 17/20\n",
            "43/43 [==============================] - 0s 3ms/step - loss: 0.0110 - sparse_categorical_accuracy: 1.0000\n",
            "Epoch 18/20\n",
            "43/43 [==============================] - 0s 2ms/step - loss: 0.0095 - sparse_categorical_accuracy: 1.0000\n",
            "Epoch 19/20\n",
            "43/43 [==============================] - 0s 2ms/step - loss: 0.0099 - sparse_categorical_accuracy: 1.0000\n",
            "Epoch 20/20\n",
            "43/43 [==============================] - 0s 2ms/step - loss: 0.0081 - sparse_categorical_accuracy: 1.0000\n"
          ]
        },
        {
          "output_type": "execute_result",
          "data": {
            "text/plain": [
              "<keras.callbacks.History at 0x7f3a690bb0a0>"
            ]
          },
          "metadata": {},
          "execution_count": 138
        }
      ]
    },
    {
      "cell_type": "code",
      "source": [
        "y_pred = model.predict(X_test)"
      ],
      "metadata": {
        "colab": {
          "base_uri": "https://localhost:8080/"
        },
        "id": "ZDZOxbJWmCz2",
        "outputId": "0ade5071-9c78-4404-cded-ac0fe7f3633e"
      },
      "execution_count": 139,
      "outputs": [
        {
          "output_type": "stream",
          "name": "stdout",
          "text": [
            "15/15 [==============================] - 0s 2ms/step\n"
          ]
        }
      ]
    },
    {
      "cell_type": "code",
      "source": [
        "model.evaluate(X_test , y_test)[1]"
      ],
      "metadata": {
        "colab": {
          "base_uri": "https://localhost:8080/"
        },
        "id": "7FiVX11onTvo",
        "outputId": "09815121-d501-47c7-88f5-b4a2b7653eb6"
      },
      "execution_count": 141,
      "outputs": [
        {
          "output_type": "stream",
          "name": "stdout",
          "text": [
            "15/15 [==============================] - 0s 3ms/step - loss: 0.1065 - sparse_categorical_accuracy: 0.9711\n"
          ]
        },
        {
          "output_type": "execute_result",
          "data": {
            "text/plain": [
              "0.9711111187934875"
            ]
          },
          "metadata": {},
          "execution_count": 141
        }
      ]
    },
    {
      "cell_type": "markdown",
      "source": [
        "# **`Activation Functions`**"
      ],
      "metadata": {
        "id": "sGDuMRwdpAPi"
      }
    },
    {
      "cell_type": "code",
      "source": [
        "def sigmoid(z):\n",
        "    return (1 / (1 + np.exp(-z)))\n",
        "def tanh(z):\n",
        "    return ((np.exp(z) - np.exp(-z))/(np.exp(z) + np.exp(-z)))\n",
        "def ReLU(z):\n",
        "    return max(0, z)\n",
        "def LReLU(z):\n",
        "    k = 0.2\n",
        "    if (z >= 0):\n",
        "        return z\n",
        "    else:\n",
        "        return k * z "
      ],
      "metadata": {
        "id": "mLhiC_5dnxZL"
      },
      "execution_count": 109,
      "outputs": []
    },
    {
      "cell_type": "code",
      "source": [
        "print(sigmoid(1))\n",
        "print(tanh(1))\n",
        "print(ReLU(1))\n",
        "print(LReLU(1))"
      ],
      "metadata": {
        "colab": {
          "base_uri": "https://localhost:8080/"
        },
        "id": "Fw-8kX6sski6",
        "outputId": "c9e1485a-b7f4-456f-cccc-17de38b99692"
      },
      "execution_count": 170,
      "outputs": [
        {
          "output_type": "stream",
          "name": "stdout",
          "text": [
            "0.7310585786300049\n",
            "0.7615941559557649\n",
            "1\n",
            "1\n"
          ]
        }
      ]
    },
    {
      "cell_type": "code",
      "source": [],
      "metadata": {
        "id": "CEBjOM3wsrAa"
      },
      "execution_count": null,
      "outputs": []
    }
  ]
}